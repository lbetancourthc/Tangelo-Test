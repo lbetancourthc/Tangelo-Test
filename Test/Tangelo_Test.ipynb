{
  "nbformat": 4,
  "nbformat_minor": 0,
  "metadata": {
    "colab": {
      "name": "Tangelo-Test.ipynb",
      "provenance": [],
      "collapsed_sections": []
    },
    "kernelspec": {
      "name": "python3",
      "display_name": "Python 3"
    },
    "language_info": {
      "name": "python"
    }
  },
  "cells": [
    {
      "cell_type": "markdown",
      "source": [
        "<center><h1> Tangelo Fintech </h1></center>\n",
        "<center><h3> Python Backend Technical Test </h3></center>\n",
        "<center><h3> Landneyker Betancourth </h3></center>"
      ],
      "metadata": {
        "id": "M4pTMKxJ7urb"
      }
    },
    {
      "cell_type": "markdown",
      "source": [
        "## Setup:"
      ],
      "metadata": {
        "id": "BQBQhj1Y7-MJ"
      }
    },
    {
      "cell_type": "code",
      "source": [
        "import requests\n",
        "import time\n",
        "import hashlib\n",
        "import pandas as pd\n",
        "import json"
      ],
      "metadata": {
        "id": "5ozdQV_M8CnW"
      },
      "execution_count": 1,
      "outputs": []
    },
    {
      "cell_type": "markdown",
      "source": [
        "## Getting data:"
      ],
      "metadata": {
        "id": "jf3vHDzZZJz4"
      }
    },
    {
      "cell_type": "code",
      "execution_count": 2,
      "metadata": {
        "colab": {
          "base_uri": "https://localhost:8080/"
        },
        "id": "FTzy9MB6ZJYb",
        "outputId": "09739508-132b-4038-d7c8-68486da79bbb"
      },
      "outputs": [
        {
          "output_type": "stream",
          "name": "stdout",
          "text": [
            "{'name': {'common': 'DR Congo', 'official': 'Democratic Republic of the Congo', 'nativeName': {'fra': {'official': 'République démocratique du Congo', 'common': 'RD Congo'}, 'kon': {'official': 'Repubilika ya Kongo Demokratiki', 'common': 'Repubilika ya Kongo Demokratiki'}, 'lin': {'official': 'Republiki ya Kongó Demokratiki', 'common': 'Republiki ya Kongó Demokratiki'}, 'lua': {'official': 'Ditunga dia Kongu wa Mungalaata', 'common': 'Ditunga dia Kongu wa Mungalaata'}, 'swa': {'official': 'Jamhuri ya Kidemokrasia ya Kongo', 'common': 'Jamhuri ya Kidemokrasia ya Kongo'}}}, 'tld': ['.cd'], 'cca2': 'CD', 'ccn3': '180', 'cca3': 'COD', 'cioc': 'COD', 'independent': True, 'status': 'officially-assigned', 'unMember': True, 'currencies': {'CDF': {'name': 'Congolese franc', 'symbol': 'FC'}}, 'idd': {'root': '+2', 'suffixes': ['43']}, 'capital': ['Kinshasa'], 'altSpellings': ['CD', 'DR Congo', 'Congo-Kinshasa', 'Congo, the Democratic Republic of the', 'DRC'], 'region': 'Africa', 'subregion': 'Middle Africa', 'languages': {'fra': 'French', 'kon': 'Kikongo', 'lin': 'Lingala', 'lua': 'Tshiluba', 'swa': 'Swahili'}, 'translations': {'ara': {'official': 'جمهورية الكونغو الديمقراطية', 'common': 'الكونغو'}, 'ces': {'official': 'Demokratická republika Kongo', 'common': 'DR Kongo'}, 'cym': {'official': 'Gweriniaeth Ddemocrataidd Congo', 'common': 'Gweriniaeth Ddemocrataidd Congo'}, 'deu': {'official': 'Demokratische Republik Kongo', 'common': 'Kongo (Dem. Rep.)'}, 'est': {'official': 'Kongo Demokraatlik Vabariik', 'common': 'Kongo DV'}, 'fin': {'official': 'Kongon demokraattinen tasavalta', 'common': 'Kongon demokraattinen tasavalta'}, 'fra': {'official': 'République démocratique du Congo', 'common': 'Congo (Rép. dém.)'}, 'hrv': {'official': 'Demokratska Republika Kongo', 'common': 'Kongo, Demokratska Republika'}, 'hun': {'official': 'Kongói Demokratikus Köztársaság', 'common': 'Kongói Demokratikus Köztársaság'}, 'ita': {'official': 'Repubblica Democratica del Congo', 'common': 'Congo (Rep. Dem.)'}, 'jpn': {'official': 'コンゴ民主共和国', 'common': 'コンゴ民主共和国'}, 'kor': {'official': '콩고 민주 공화국', 'common': '콩고 민주 공화국'}, 'nld': {'official': 'Democratische Republiek Congo', 'common': 'Congo (DRC)'}, 'per': {'official': 'جمهوری دموکراتیک کنگو', 'common': 'کنگو دموکراتیک'}, 'pol': {'official': 'Demokratyczna Republika Konga', 'common': 'Demokratyczna Republika Konga'}, 'por': {'official': 'República Democrática do Congo', 'common': 'República Democrática do Congo'}, 'rus': {'official': 'Демократическая Республика Конго', 'common': 'Демократическая Республика Конго'}, 'slk': {'official': 'Konžská demokratická republika', 'common': 'Kongo'}, 'spa': {'official': 'República Democrática del Congo', 'common': 'Congo (Rep. Dem.)'}, 'swe': {'official': 'Demokratiska republiken Kongo', 'common': 'Kongo-Kinshasa'}, 'urd': {'official': 'جمہوری جمہوریہ کانگو', 'common': 'کانگو'}, 'zho': {'official': '刚果民主共和国', 'common': '民主刚果'}}, 'latlng': [0.0, 25.0], 'landlocked': False, 'borders': ['AGO', 'BDI', 'CAF', 'COG', 'RWA', 'SSD', 'TZA', 'UGA', 'ZMB'], 'area': 2344858.0, 'demonyms': {'eng': {'f': 'Congolese', 'm': 'Congolese'}, 'fra': {'f': 'Congolaise', 'm': 'Congolais'}}, 'flag': '🇨🇩', 'maps': {'googleMaps': 'https://goo.gl/maps/KfhNVn6VqdZXWu8n9', 'openStreetMaps': 'https://www.openstreetmap.org/relation/192795'}, 'population': 89561404, 'gini': {'2012': 42.1}, 'fifa': 'COD', 'car': {'signs': ['CGO'], 'side': 'right'}, 'timezones': ['UTC+01:00', 'UTC+02:00'], 'continents': ['Africa'], 'flags': {'png': 'https://flagcdn.com/w320/cd.png', 'svg': 'https://flagcdn.com/cd.svg'}, 'coatOfArms': {'png': 'https://mainfacts.com/media/images/coats_of_arms/cd.png', 'svg': 'https://mainfacts.com/media/images/coats_of_arms/cd.svg'}, 'startOfWeek': 'monday', 'capitalInfo': {'latlng': [-4.32, 15.3]}}\n",
            "dict_keys(['name', 'tld', 'cca2', 'ccn3', 'cca3', 'cioc', 'independent', 'status', 'unMember', 'currencies', 'idd', 'capital', 'altSpellings', 'region', 'subregion', 'languages', 'translations', 'latlng', 'landlocked', 'borders', 'area', 'demonyms', 'flag', 'maps', 'population', 'gini', 'fifa', 'car', 'timezones', 'continents', 'flags', 'coatOfArms', 'startOfWeek', 'capitalInfo'])\n"
          ]
        }
      ],
      "source": [
        "url='https://restcountries.com/v3.1/all'  # This is a link of rest country API\n",
        "data_url = requests.get(url)              # Request data to URL\n",
        "data = data_url.json()                    # JSON data for display\n",
        "\n",
        "print(data[0])                            # Displaying data content\n",
        "print(data[0].keys())                     # Duisplaying keys for data content"
      ]
    },
    {
      "cell_type": "markdown",
      "source": [
        "## Making dataframe:"
      ],
      "metadata": {
        "id": "WPE2LIjT6oCf"
      }
    },
    {
      "cell_type": "code",
      "source": [
        "# Making DataFrame\n",
        "dict_data = {}              # Dictionary to save data\n",
        "list_region = []            # List to add the data of the region\n",
        "list_city_name = []         # List to add the data of the city name\n",
        "list_language = []          # List to add the data of the language\n",
        "list_time = []              # List to add the data of the time it takes to create a row like a string for visualization\n",
        "list_time_num = []          # List to add the data of the time it takes to create a row like a float for getting max, min and average\n",
        "\n",
        "for i in range(len(data)):  \n",
        "  start_time = time.time()  # Time to calculate the creation of a row \n",
        "  \n",
        "  if data[i].get('languages') == None:              # Key validation\n",
        "    lang = 'Not Found'                              # Add default value\n",
        "  else:\n",
        "    lang = list(data[i]['languages'].values())[0]   # If key exist add real value\n",
        "  \n",
        "  time_num = (time.time() - start_time) * 1000      # Time convertion to miliseconds (ms)\n",
        "\n",
        "  list_region.append(data[i]['region'])                                # Add region to list\n",
        "  list_city_name.append(data[i]['name']['common'])                     # Add common name to list\n",
        "  list_language.append(hashlib.sha1(lang.encode(\"utf-8\")).hexdigest()) # Encrypting data and using hexdigest() to display \n",
        "  list_time_num.append(time_num)                                       # Add time to list -> float for calculate max, min and average\n",
        "  list_time.append(str(time_num)[:6] + ' ms')                          # Add time to list -> str to add 'ms'\n",
        "\n",
        "# Add data to dict\n",
        "dict_data['Region'] = list_region\n",
        "dict_data['City Name'] = list_city_name\n",
        "dict_data['Language'] = list_language\n",
        "dict_data['Time'] = list_time\n",
        "\n",
        "df = pd.DataFrame(dict_data)    # Making DataFrame"
      ],
      "metadata": {
        "id": "gqhrW8PCZtAp"
      },
      "execution_count": 3,
      "outputs": []
    },
    {
      "cell_type": "markdown",
      "source": [
        "## Displaying dataframe:"
      ],
      "metadata": {
        "id": "NOM_A4uv6rV4"
      }
    },
    {
      "cell_type": "code",
      "source": [
        "df"
      ],
      "metadata": {
        "colab": {
          "base_uri": "https://localhost:8080/",
          "height": 424
        },
        "id": "DYxzGCiL6f_5",
        "outputId": "3bc8e73a-8fd7-4fda-a4ec-f5f70188f8f4"
      },
      "execution_count": 4,
      "outputs": [
        {
          "output_type": "execute_result",
          "data": {
            "text/html": [
              "\n",
              "  <div id=\"df-93a3a3a7-6467-4c4d-8a84-760916b49617\">\n",
              "    <div class=\"colab-df-container\">\n",
              "      <div>\n",
              "<style scoped>\n",
              "    .dataframe tbody tr th:only-of-type {\n",
              "        vertical-align: middle;\n",
              "    }\n",
              "\n",
              "    .dataframe tbody tr th {\n",
              "        vertical-align: top;\n",
              "    }\n",
              "\n",
              "    .dataframe thead th {\n",
              "        text-align: right;\n",
              "    }\n",
              "</style>\n",
              "<table border=\"1\" class=\"dataframe\">\n",
              "  <thead>\n",
              "    <tr style=\"text-align: right;\">\n",
              "      <th></th>\n",
              "      <th>Region</th>\n",
              "      <th>City Name</th>\n",
              "      <th>Language</th>\n",
              "      <th>Time</th>\n",
              "    </tr>\n",
              "  </thead>\n",
              "  <tbody>\n",
              "    <tr>\n",
              "      <th>0</th>\n",
              "      <td>Africa</td>\n",
              "      <td>DR Congo</td>\n",
              "      <td>44389f6a466eaabf5c1db729e369511134e2b03b</td>\n",
              "      <td>0.0054 ms</td>\n",
              "    </tr>\n",
              "    <tr>\n",
              "      <th>1</th>\n",
              "      <td>Europe</td>\n",
              "      <td>North Macedonia</td>\n",
              "      <td>b3fe571f349f4b42daacd19bf3d1a708f4bec7cd</td>\n",
              "      <td>0.0088 ms</td>\n",
              "    </tr>\n",
              "    <tr>\n",
              "      <th>2</th>\n",
              "      <td>Oceania</td>\n",
              "      <td>Tonga</td>\n",
              "      <td>649df08a448ee3fa90f3746baaf6b0907df42c91</td>\n",
              "      <td>0.0021 ms</td>\n",
              "    </tr>\n",
              "    <tr>\n",
              "      <th>3</th>\n",
              "      <td>Europe</td>\n",
              "      <td>Poland</td>\n",
              "      <td>d011986407b1110e57283981ea38a369075023b8</td>\n",
              "      <td>0.0026 ms</td>\n",
              "    </tr>\n",
              "    <tr>\n",
              "      <th>4</th>\n",
              "      <td>Africa</td>\n",
              "      <td>Angola</td>\n",
              "      <td>23882c575954a0789bf02aba9e6dd01f539bc738</td>\n",
              "      <td>0.0023 ms</td>\n",
              "    </tr>\n",
              "    <tr>\n",
              "      <th>...</th>\n",
              "      <td>...</td>\n",
              "      <td>...</td>\n",
              "      <td>...</td>\n",
              "      <td>...</td>\n",
              "    </tr>\n",
              "    <tr>\n",
              "      <th>245</th>\n",
              "      <td>Africa</td>\n",
              "      <td>Libya</td>\n",
              "      <td>af4f4762f9bd3f0f4a10caf5b6e63dc4ce543724</td>\n",
              "      <td>0.0023 ms</td>\n",
              "    </tr>\n",
              "    <tr>\n",
              "      <th>246</th>\n",
              "      <td>Asia</td>\n",
              "      <td>Saudi Arabia</td>\n",
              "      <td>af4f4762f9bd3f0f4a10caf5b6e63dc4ce543724</td>\n",
              "      <td>0.0026 ms</td>\n",
              "    </tr>\n",
              "    <tr>\n",
              "      <th>247</th>\n",
              "      <td>Asia</td>\n",
              "      <td>Malaysia</td>\n",
              "      <td>649df08a448ee3fa90f3746baaf6b0907df42c91</td>\n",
              "      <td>0.0023 ms</td>\n",
              "    </tr>\n",
              "    <tr>\n",
              "      <th>248</th>\n",
              "      <td>Americas</td>\n",
              "      <td>Jamaica</td>\n",
              "      <td>649df08a448ee3fa90f3746baaf6b0907df42c91</td>\n",
              "      <td>0.0026 ms</td>\n",
              "    </tr>\n",
              "    <tr>\n",
              "      <th>249</th>\n",
              "      <td>Asia</td>\n",
              "      <td>Azerbaijan</td>\n",
              "      <td>68852895e0570a356c8af13b8388d1678a58501f</td>\n",
              "      <td>0.0023 ms</td>\n",
              "    </tr>\n",
              "  </tbody>\n",
              "</table>\n",
              "<p>250 rows × 4 columns</p>\n",
              "</div>\n",
              "      <button class=\"colab-df-convert\" onclick=\"convertToInteractive('df-93a3a3a7-6467-4c4d-8a84-760916b49617')\"\n",
              "              title=\"Convert this dataframe to an interactive table.\"\n",
              "              style=\"display:none;\">\n",
              "        \n",
              "  <svg xmlns=\"http://www.w3.org/2000/svg\" height=\"24px\"viewBox=\"0 0 24 24\"\n",
              "       width=\"24px\">\n",
              "    <path d=\"M0 0h24v24H0V0z\" fill=\"none\"/>\n",
              "    <path d=\"M18.56 5.44l.94 2.06.94-2.06 2.06-.94-2.06-.94-.94-2.06-.94 2.06-2.06.94zm-11 1L8.5 8.5l.94-2.06 2.06-.94-2.06-.94L8.5 2.5l-.94 2.06-2.06.94zm10 10l.94 2.06.94-2.06 2.06-.94-2.06-.94-.94-2.06-.94 2.06-2.06.94z\"/><path d=\"M17.41 7.96l-1.37-1.37c-.4-.4-.92-.59-1.43-.59-.52 0-1.04.2-1.43.59L10.3 9.45l-7.72 7.72c-.78.78-.78 2.05 0 2.83L4 21.41c.39.39.9.59 1.41.59.51 0 1.02-.2 1.41-.59l7.78-7.78 2.81-2.81c.8-.78.8-2.07 0-2.86zM5.41 20L4 18.59l7.72-7.72 1.47 1.35L5.41 20z\"/>\n",
              "  </svg>\n",
              "      </button>\n",
              "      \n",
              "  <style>\n",
              "    .colab-df-container {\n",
              "      display:flex;\n",
              "      flex-wrap:wrap;\n",
              "      gap: 12px;\n",
              "    }\n",
              "\n",
              "    .colab-df-convert {\n",
              "      background-color: #E8F0FE;\n",
              "      border: none;\n",
              "      border-radius: 50%;\n",
              "      cursor: pointer;\n",
              "      display: none;\n",
              "      fill: #1967D2;\n",
              "      height: 32px;\n",
              "      padding: 0 0 0 0;\n",
              "      width: 32px;\n",
              "    }\n",
              "\n",
              "    .colab-df-convert:hover {\n",
              "      background-color: #E2EBFA;\n",
              "      box-shadow: 0px 1px 2px rgba(60, 64, 67, 0.3), 0px 1px 3px 1px rgba(60, 64, 67, 0.15);\n",
              "      fill: #174EA6;\n",
              "    }\n",
              "\n",
              "    [theme=dark] .colab-df-convert {\n",
              "      background-color: #3B4455;\n",
              "      fill: #D2E3FC;\n",
              "    }\n",
              "\n",
              "    [theme=dark] .colab-df-convert:hover {\n",
              "      background-color: #434B5C;\n",
              "      box-shadow: 0px 1px 3px 1px rgba(0, 0, 0, 0.15);\n",
              "      filter: drop-shadow(0px 1px 2px rgba(0, 0, 0, 0.3));\n",
              "      fill: #FFFFFF;\n",
              "    }\n",
              "  </style>\n",
              "\n",
              "      <script>\n",
              "        const buttonEl =\n",
              "          document.querySelector('#df-93a3a3a7-6467-4c4d-8a84-760916b49617 button.colab-df-convert');\n",
              "        buttonEl.style.display =\n",
              "          google.colab.kernel.accessAllowed ? 'block' : 'none';\n",
              "\n",
              "        async function convertToInteractive(key) {\n",
              "          const element = document.querySelector('#df-93a3a3a7-6467-4c4d-8a84-760916b49617');\n",
              "          const dataTable =\n",
              "            await google.colab.kernel.invokeFunction('convertToInteractive',\n",
              "                                                     [key], {});\n",
              "          if (!dataTable) return;\n",
              "\n",
              "          const docLinkHtml = 'Like what you see? Visit the ' +\n",
              "            '<a target=\"_blank\" href=https://colab.research.google.com/notebooks/data_table.ipynb>data table notebook</a>'\n",
              "            + ' to learn more about interactive tables.';\n",
              "          element.innerHTML = '';\n",
              "          dataTable['output_type'] = 'display_data';\n",
              "          await google.colab.output.renderOutput(dataTable, element);\n",
              "          const docLink = document.createElement('div');\n",
              "          docLink.innerHTML = docLinkHtml;\n",
              "          element.appendChild(docLink);\n",
              "        }\n",
              "      </script>\n",
              "    </div>\n",
              "  </div>\n",
              "  "
            ],
            "text/plain": [
              "       Region  ...       Time\n",
              "0      Africa  ...  0.0054 ms\n",
              "1      Europe  ...  0.0088 ms\n",
              "2     Oceania  ...  0.0021 ms\n",
              "3      Europe  ...  0.0026 ms\n",
              "4      Africa  ...  0.0023 ms\n",
              "..        ...  ...        ...\n",
              "245    Africa  ...  0.0023 ms\n",
              "246      Asia  ...  0.0026 ms\n",
              "247      Asia  ...  0.0023 ms\n",
              "248  Americas  ...  0.0026 ms\n",
              "249      Asia  ...  0.0023 ms\n",
              "\n",
              "[250 rows x 4 columns]"
            ]
          },
          "metadata": {},
          "execution_count": 4
        }
      ]
    },
    {
      "cell_type": "markdown",
      "source": [
        "## Processing time:"
      ],
      "metadata": {
        "id": "hRfXV0JB69Ay"
      }
    },
    {
      "cell_type": "code",
      "source": [
        "col_time = df['Time']"
      ],
      "metadata": {
        "id": "jdXBMsd47DeZ"
      },
      "execution_count": 5,
      "outputs": []
    },
    {
      "cell_type": "markdown",
      "source": [
        "Max time:"
      ],
      "metadata": {
        "id": "Yg6mEm_T7MjQ"
      }
    },
    {
      "cell_type": "code",
      "source": [
        "col_time.max()"
      ],
      "metadata": {
        "colab": {
          "base_uri": "https://localhost:8080/",
          "height": 35
        },
        "id": "xo7GBii77GZJ",
        "outputId": "e56ec454-cec3-44f0-b93a-7c1932044ff6"
      },
      "execution_count": 6,
      "outputs": [
        {
          "output_type": "execute_result",
          "data": {
            "application/vnd.google.colaboratory.intrinsic+json": {
              "type": "string"
            },
            "text/plain": [
              "'0.1063 ms'"
            ]
          },
          "metadata": {},
          "execution_count": 6
        }
      ]
    },
    {
      "cell_type": "markdown",
      "source": [
        "Min time:"
      ],
      "metadata": {
        "id": "dH50tCvR7OGh"
      }
    },
    {
      "cell_type": "code",
      "source": [
        "col_time.min()"
      ],
      "metadata": {
        "colab": {
          "base_uri": "https://localhost:8080/",
          "height": 35
        },
        "id": "gaxrLTDM7GwI",
        "outputId": "4db815db-c8d2-47f9-aeb9-95163f25a55d"
      },
      "execution_count": 7,
      "outputs": [
        {
          "output_type": "execute_result",
          "data": {
            "application/vnd.google.colaboratory.intrinsic+json": {
              "type": "string"
            },
            "text/plain": [
              "'0.0011 ms'"
            ]
          },
          "metadata": {},
          "execution_count": 7
        }
      ]
    },
    {
      "cell_type": "markdown",
      "source": [
        "Average time:"
      ],
      "metadata": {
        "id": "D8ci03n-7PTI"
      }
    },
    {
      "cell_type": "code",
      "source": [
        "#col_time.mean()\n",
        "str(sum(list_time_num) / len(list_time_num))[:6]"
      ],
      "metadata": {
        "colab": {
          "base_uri": "https://localhost:8080/",
          "height": 35
        },
        "id": "KaxK0kOv7H74",
        "outputId": "0816ea4a-5e19-4faf-f968-fb4f553faa67"
      },
      "execution_count": 8,
      "outputs": [
        {
          "output_type": "execute_result",
          "data": {
            "application/vnd.google.colaboratory.intrinsic+json": {
              "type": "string"
            },
            "text/plain": [
              "'0.0028'"
            ]
          },
          "metadata": {},
          "execution_count": 8
        }
      ]
    },
    {
      "cell_type": "markdown",
      "source": [
        "## Making and download JSON file from data dict:"
      ],
      "metadata": {
        "id": "vwNFRyxj6u7n"
      }
    },
    {
      "cell_type": "code",
      "source": [
        "# Making and download JSON file from data dict\n",
        "data_json = json.dumps(dict_data)     # Dict to JSON\n",
        "json_file = open('data.json', 'w')    # Creating the file\n",
        "json_file.write(data_json)            # Writing data\n",
        "json_file.close()                     # Saving data JSON as data.json\n",
        "print(data_json)                      # Displaying data.json"
      ],
      "metadata": {
        "colab": {
          "base_uri": "https://localhost:8080/"
        },
        "id": "XaKiWTCJiqv8",
        "outputId": "3edae889-f91a-40cd-e4ed-685d99f3113b"
      },
      "execution_count": 9,
      "outputs": [
        {
          "output_type": "stream",
          "name": "stdout",
          "text": [
            "{\"Region\": [\"Africa\", \"Europe\", \"Oceania\", \"Europe\", \"Africa\", \"Africa\", \"Africa\", \"Africa\", \"Africa\", \"Europe\", \"Africa\", \"Europe\", \"Africa\", \"Europe\", \"Asia\", \"Americas\", \"Americas\", \"Americas\", \"Asia\", \"Oceania\", \"Americas\", \"Antarctic\", \"Africa\", \"Africa\", \"Asia\", \"Europe\", \"Europe\", \"Africa\", \"Europe\", \"Africa\", \"Europe\", \"Americas\", \"Africa\", \"Americas\", \"Europe\", \"Americas\", \"Europe\", \"Europe\", \"Africa\", \"Europe\", \"Africa\", \"Africa\", \"Europe\", \"Europe\", \"Europe\", \"Africa\", \"Africa\", \"Africa\", \"Asia\", \"Africa\", \"Americas\", \"Americas\", \"Americas\", \"Americas\", \"Americas\", \"Americas\", \"Europe\", \"Americas\", \"Europe\", \"Europe\", \"Africa\", \"Asia\", \"Americas\", \"Asia\", \"Oceania\", \"Africa\", \"Asia\", \"Europe\", \"Africa\", \"Asia\", \"Asia\", \"Asia\", \"Oceania\", \"Americas\", \"Europe\", \"Europe\", \"Africa\", \"Americas\", \"Americas\", \"Americas\", \"Europe\", \"Oceania\", \"Europe\", \"Americas\", \"Oceania\", \"Americas\", \"Asia\", \"Africa\", \"Asia\", \"Americas\", \"Africa\", \"Europe\", \"Africa\", \"Oceania\", \"Americas\", \"Americas\", \"Americas\", \"Europe\", \"Oceania\", \"Asia\", \"Americas\", \"Asia\", \"Africa\", \"Americas\", \"Asia\", \"Antarctic\", \"Africa\", \"Asia\", \"Africa\", \"Africa\", \"Africa\", \"Oceania\", \"Asia\", \"Oceania\", \"Americas\", \"Africa\", \"Oceania\", \"Europe\", \"Asia\", \"Africa\", \"Europe\", \"Africa\", \"Asia\", \"Asia\", \"Africa\", \"Europe\", \"Africa\", \"Asia\", \"Asia\", \"Asia\", \"Oceania\", \"Asia\", \"Oceania\", \"Europe\", \"Americas\", \"Oceania\", \"Americas\", \"Oceania\", \"Europe\", \"Oceania\", \"Asia\", \"Americas\", \"Europe\", \"Africa\", \"Americas\", \"Africa\", \"Asia\", \"Americas\", \"Oceania\", \"Africa\", \"Americas\", \"Americas\", \"Europe\", \"Asia\", \"Americas\", \"Asia\", \"Africa\", \"Asia\", \"Oceania\", \"Americas\", \"Americas\", \"Americas\", \"Europe\", \"Americas\", \"Americas\", \"Americas\", \"Asia\", \"Africa\", \"Africa\", \"Europe\", \"Oceania\", \"Asia\", \"Asia\", \"Africa\", \"Asia\", \"Oceania\", \"Antarctic\", \"Africa\", \"Americas\", \"Africa\", \"Europe\", \"Europe\", \"Africa\", \"Europe\", \"Oceania\", \"Americas\", \"Americas\", \"Europe\", \"Antarctic\", \"Asia\", \"Europe\", \"Europe\", \"Europe\", \"Asia\", \"Europe\", \"Asia\", \"Asia\", \"Americas\", \"Oceania\", \"Africa\", \"Asia\", \"Antarctic\", \"Oceania\", \"Asia\", \"Africa\", \"Africa\", \"Africa\", \"Africa\", \"Europe\", \"Asia\", \"Americas\", \"Oceania\", \"Africa\", \"Asia\", \"Europe\", \"Americas\", \"Americas\", \"Africa\", \"Asia\", \"Europe\", \"Africa\", \"Europe\", \"Americas\", \"Americas\", \"Asia\", \"Americas\", \"Europe\", \"Europe\", \"Americas\", \"Europe\", \"Europe\", \"Europe\", \"Americas\", \"Asia\", \"Asia\", \"Americas\", \"Africa\", \"Europe\", \"Oceania\", \"Africa\", \"Asia\", \"Africa\", \"Oceania\", \"Oceania\", \"Asia\", \"Africa\", \"Asia\", \"Asia\", \"Americas\", \"Asia\"], \"City Name\": [\"DR Congo\", \"North Macedonia\", \"Tonga\", \"Poland\", \"Angola\", \"Algeria\", \"R\\u00e9union\", \"Republic of the Congo\", \"Sierra Leone\", \"Andorra\", \"British Indian Ocean Territory\", \"Albania\", \"South Sudan\", \"Isle of Man\", \"Pakistan\", \"Montserrat\", \"Antigua and Barbuda\", \"Guatemala\", \"Kuwait\", \"Niue\", \"Bolivia\", \"South Georgia\", \"Seychelles\", \"Botswana\", \"Iran\", \"Bosnia and Herzegovina\", \"Guernsey\", \"Namibia\", \"Gibraltar\", \"Ethiopia\", \"Svalbard and Jan Mayen\", \"Mexico\", \"Cameroon\", \"Saint Barth\\u00e9lemy\", \"Montenegro\", \"Ecuador\", \"Switzerland\", \"Lithuania\", \"Burundi\", \"Monaco\", \"Mali\", \"Saint Helena, Ascension and Tristan da Cunha\", \"Jersey\", \"Latvia\", \"Bulgaria\", \"Equatorial Guinea\", \"Lesotho\", \"Comoros\", \"Thailand\", \"Somalia\", \"Canada\", \"Brazil\", \"Barbados\", \"Puerto Rico\", \"Saint Pierre and Miquelon\", \"Saint Kitts and Nevis\", \"Slovakia\", \"Argentina\", \"France\", \"Ukraine\", \"Egypt\", \"Indonesia\", \"Turks and Caicos Islands\", \"United Arab Emirates\", \"Fiji\", \"Liberia\", \"Myanmar\", \"Netherlands\", \"Nigeria\", \"Uzbekistan\", \"Georgia\", \"Palestine\", \"Cook Islands\", \"Belize\", \"Hungary\", \"Portugal\", \"Mozambique\", \"Panama\", \"Falkland Islands\", \"Honduras\", \"Kosovo\", \"Christmas Island\", \"Norway\", \"El Salvador\", \"Micronesia\", \"Grenada\", \"Yemen\", \"South Africa\", \"Qatar\", \"Sint Maarten\", \"Tanzania\", \"United Kingdom\", \"Niger\", \"Solomon Islands\", \"Colombia\", \"United States\", \"Chile\", \"Greece\", \"Australia\", \"Lebanon\", \"Costa Rica\", \"Japan\", \"Mauritania\", \"Bermuda\", \"China\", \"Heard Island and McDonald Islands\", \"Morocco\", \"Philippines\", \"Eritrea\", \"Gabon\", \"Zambia\", \"Nauru\", \"Sri Lanka\", \"American Samoa\", \"French Guiana\", \"Ghana\", \"New Zealand\", \"Spain\", \"Turkey\", \"Guinea\", \"Germany\", \"Gambia\", \"Iraq\", \"Bangladesh\", \"Eswatini\", \"Finland\", \"Togo\", \"Oman\", \"Cambodia\", \"Mongolia\", \"New Caledonia\", \"Brunei\", \"Pitcairn Islands\", \"\\u00c5land Islands\", \"Guyana\", \"Guam\", \"Cura\\u00e7ao\", \"Norfolk Island\", \"Russia\", \"French Polynesia\", \"Armenia\", \"Suriname\", \"Italy\", \"Burkina Faso\", \"Guadeloupe\", \"Rwanda\", \"Macau\", \"Saint Martin\", \"Tokelau\", \"Tunisia\", \"British Virgin Islands\", \"Anguilla\", \"Cyprus\", \"Vietnam\", \"United States Minor Outlying Islands\", \"Jordan\", \"Guinea-Bissau\", \"South Korea\", \"Tuvalu\", \"Aruba\", \"Bahamas\", \"Dominican Republic\", \"Faroe Islands\", \"Paraguay\", \"Cuba\", \"Haiti\", \"Afghanistan\", \"Djibouti\", \"Western Sahara\", \"Denmark\", \"Northern Mariana Islands\", \"Maldives\", \"Timor-Leste\", \"Zimbabwe\", \"Laos\", \"Papua New Guinea\", \"Antarctica\", \"Central African Republic\", \"Uruguay\", \"Ivory Coast\", \"Sweden\", \"Austria\", \"Cape Verde\", \"Moldova\", \"Kiribati\", \"Dominica\", \"Saint Vincent and the Grenadines\", \"Luxembourg\", \"Bouvet Island\", \"Nepal\", \"Vatican City\", \"Serbia\", \"Liechtenstein\", \"Israel\", \"Slovenia\", \"Taiwan\", \"India\", \"Caribbean Netherlands\", \"Wallis and Futuna\", \"Uganda\", \"Hong Kong\", \"French Southern and Antarctic Lands\", \"Palau\", \"Kyrgyzstan\", \"Mayotte\", \"Senegal\", \"Benin\", \"Chad\", \"Estonia\", \"North Korea\", \"Trinidad and Tobago\", \"Marshall Islands\", \"Mauritius\", \"Bhutan\", \"Malta\", \"United States Virgin Islands\", \"Nicaragua\", \"Madagascar\", \"Tajikistan\", \"Belgium\", \"Malawi\", \"Belarus\", \"Venezuela\", \"Saint Lucia\", \"Syria\", \"Greenland\", \"Croatia\", \"San Marino\", \"Cayman Islands\", \"Ireland\", \"Romania\", \"Czechia\", \"Peru\", \"Bahrain\", \"Singapore\", \"Martinique\", \"Sudan\", \"Iceland\", \"Samoa\", \"Kenya\", \"Turkmenistan\", \"S\\u00e3o Tom\\u00e9 and Pr\\u00edncipe\", \"Cocos (Keeling) Islands\", \"Vanuatu\", \"Kazakhstan\", \"Libya\", \"Saudi Arabia\", \"Malaysia\", \"Jamaica\", \"Azerbaijan\"], \"Language\": [\"44389f6a466eaabf5c1db729e369511134e2b03b\", \"b3fe571f349f4b42daacd19bf3d1a708f4bec7cd\", \"649df08a448ee3fa90f3746baaf6b0907df42c91\", \"d011986407b1110e57283981ea38a369075023b8\", \"23882c575954a0789bf02aba9e6dd01f539bc738\", \"af4f4762f9bd3f0f4a10caf5b6e63dc4ce543724\", \"44389f6a466eaabf5c1db729e369511134e2b03b\", \"44389f6a466eaabf5c1db729e369511134e2b03b\", \"649df08a448ee3fa90f3746baaf6b0907df42c91\", \"2c5e77fc08a7d5537c9c2807353393f67c068cbe\", \"649df08a448ee3fa90f3746baaf6b0907df42c91\", \"d71c45b3d8a817df46d53626270c2cc92e52793f\", \"649df08a448ee3fa90f3746baaf6b0907df42c91\", \"649df08a448ee3fa90f3746baaf6b0907df42c91\", \"649df08a448ee3fa90f3746baaf6b0907df42c91\", \"649df08a448ee3fa90f3746baaf6b0907df42c91\", \"649df08a448ee3fa90f3746baaf6b0907df42c91\", \"8df7f1b361b2af42d36011e00d22c0f9891ec0b0\", \"af4f4762f9bd3f0f4a10caf5b6e63dc4ce543724\", \"649df08a448ee3fa90f3746baaf6b0907df42c91\", \"b92b66b38efcefc646b9b298d3438a6bad54de35\", \"649df08a448ee3fa90f3746baaf6b0907df42c91\", \"0b5fb20ff92d014d0f4fd0af4df89af61d9f5610\", \"649df08a448ee3fa90f3746baaf6b0907df42c91\", \"3312c0b3de07dc6160ca6d18ee6f6078387ed686\", \"71d67418f341f2ca177be8a385287d08b2297a90\", \"649df08a448ee3fa90f3746baaf6b0907df42c91\", \"40604522f2257ffe29e86f4f4812290ed9c290b1\", \"649df08a448ee3fa90f3746baaf6b0907df42c91\", \"13bf461c74324e0ccb378e9aad8ace8fb01a7d0f\", \"79b723002f87708ebc11fd4f3b902a03f7c9a5c1\", \"8df7f1b361b2af42d36011e00d22c0f9891ec0b0\", \"649df08a448ee3fa90f3746baaf6b0907df42c91\", \"44389f6a466eaabf5c1db729e369511134e2b03b\", \"f617672f7c9487885f593d5d61b5b420236d4505\", \"8df7f1b361b2af42d36011e00d22c0f9891ec0b0\", \"44389f6a466eaabf5c1db729e369511134e2b03b\", \"553c519c9addc3f4dad41b4a23238251692354b7\", \"44389f6a466eaabf5c1db729e369511134e2b03b\", \"44389f6a466eaabf5c1db729e369511134e2b03b\", \"44389f6a466eaabf5c1db729e369511134e2b03b\", \"649df08a448ee3fa90f3746baaf6b0907df42c91\", \"649df08a448ee3fa90f3746baaf6b0907df42c91\", \"9ed6ae997b1668915a9529a0889d5ac9735b0c4b\", \"cebed7688a5babc3ef7b5a3e8aa43667d482a257\", \"44389f6a466eaabf5c1db729e369511134e2b03b\", \"649df08a448ee3fa90f3746baaf6b0907df42c91\", \"af4f4762f9bd3f0f4a10caf5b6e63dc4ce543724\", \"c32767e0541fe7038ff8d87e7b8aed17f49474f8\", \"af4f4762f9bd3f0f4a10caf5b6e63dc4ce543724\", \"649df08a448ee3fa90f3746baaf6b0907df42c91\", \"23882c575954a0789bf02aba9e6dd01f539bc738\", \"649df08a448ee3fa90f3746baaf6b0907df42c91\", \"649df08a448ee3fa90f3746baaf6b0907df42c91\", \"44389f6a466eaabf5c1db729e369511134e2b03b\", \"649df08a448ee3fa90f3746baaf6b0907df42c91\", \"d6a8b06eb4898f96a2fc6d5d10dfc35b13982cb6\", \"2e01814f61f8a3d0cc2295059d56fff9b8c17f3a\", \"44389f6a466eaabf5c1db729e369511134e2b03b\", \"515451058797b204e188dd70f8d20f32dacca327\", \"af4f4762f9bd3f0f4a10caf5b6e63dc4ce543724\", \"2339b8ad3625abec50c5fec9ccfe1b4c0adb5b6e\", \"649df08a448ee3fa90f3746baaf6b0907df42c91\", \"af4f4762f9bd3f0f4a10caf5b6e63dc4ce543724\", \"649df08a448ee3fa90f3746baaf6b0907df42c91\", \"649df08a448ee3fa90f3746baaf6b0907df42c91\", \"460ce8e9a08300639b34b7a8264d1eac65d34d77\", \"334a85f1b16e32b6ba9a69313c6f584edef482cc\", \"649df08a448ee3fa90f3746baaf6b0907df42c91\", \"74ad93cbebf587ac46ab0ef1e3f24139ddd3f535\", \"aca441ddd2e8d07643b87c1b24a828fa5b4b3e42\", \"af4f4762f9bd3f0f4a10caf5b6e63dc4ce543724\", \"649df08a448ee3fa90f3746baaf6b0907df42c91\", \"6f12fb8dcfb8693257a67a6bd626dfd3f95a1a0e\", \"80cb96f852d1ce7ae9b00c59c13912122674f7ce\", \"23882c575954a0789bf02aba9e6dd01f539bc738\", \"23882c575954a0789bf02aba9e6dd01f539bc738\", \"8df7f1b361b2af42d36011e00d22c0f9891ec0b0\", \"649df08a448ee3fa90f3746baaf6b0907df42c91\", \"8df7f1b361b2af42d36011e00d22c0f9891ec0b0\", \"d71c45b3d8a817df46d53626270c2cc92e52793f\", \"649df08a448ee3fa90f3746baaf6b0907df42c91\", \"0b68ece2bf159cdc69e9e869cdb19a051ee591e6\", \"8df7f1b361b2af42d36011e00d22c0f9891ec0b0\", \"649df08a448ee3fa90f3746baaf6b0907df42c91\", \"649df08a448ee3fa90f3746baaf6b0907df42c91\", \"af4f4762f9bd3f0f4a10caf5b6e63dc4ce543724\", \"40604522f2257ffe29e86f4f4812290ed9c290b1\", \"af4f4762f9bd3f0f4a10caf5b6e63dc4ce543724\", \"649df08a448ee3fa90f3746baaf6b0907df42c91\", \"649df08a448ee3fa90f3746baaf6b0907df42c91\", \"649df08a448ee3fa90f3746baaf6b0907df42c91\", \"44389f6a466eaabf5c1db729e369511134e2b03b\", \"649df08a448ee3fa90f3746baaf6b0907df42c91\", \"8df7f1b361b2af42d36011e00d22c0f9891ec0b0\", \"649df08a448ee3fa90f3746baaf6b0907df42c91\", \"8df7f1b361b2af42d36011e00d22c0f9891ec0b0\", \"59d5f5b13f13f6d5e8e88a5a92e137f7d64b2954\", \"649df08a448ee3fa90f3746baaf6b0907df42c91\", \"af4f4762f9bd3f0f4a10caf5b6e63dc4ce543724\", \"8df7f1b361b2af42d36011e00d22c0f9891ec0b0\", \"9239c22d1d1c990ca8c206cb408b345a3ec8114c\", \"af4f4762f9bd3f0f4a10caf5b6e63dc4ce543724\", \"649df08a448ee3fa90f3746baaf6b0907df42c91\", \"15dc18865567bcc98554a72a8036e1b64a8b85d5\", \"649df08a448ee3fa90f3746baaf6b0907df42c91\", \"af4f4762f9bd3f0f4a10caf5b6e63dc4ce543724\", \"649df08a448ee3fa90f3746baaf6b0907df42c91\", \"af4f4762f9bd3f0f4a10caf5b6e63dc4ce543724\", \"44389f6a466eaabf5c1db729e369511134e2b03b\", \"649df08a448ee3fa90f3746baaf6b0907df42c91\", \"649df08a448ee3fa90f3746baaf6b0907df42c91\", \"0d8bc28bd230eae9445fec6a48931c7bdeb53ee1\", \"649df08a448ee3fa90f3746baaf6b0907df42c91\", \"44389f6a466eaabf5c1db729e369511134e2b03b\", \"649df08a448ee3fa90f3746baaf6b0907df42c91\", \"649df08a448ee3fa90f3746baaf6b0907df42c91\", \"8df7f1b361b2af42d36011e00d22c0f9891ec0b0\", \"ab650a1a4b8fdf3a4053ce8d277d335dd82e5447\", \"44389f6a466eaabf5c1db729e369511134e2b03b\", \"da91388c72d3e31da19dcd85c97374197748485d\", \"649df08a448ee3fa90f3746baaf6b0907df42c91\", \"af4f4762f9bd3f0f4a10caf5b6e63dc4ce543724\", \"198e9c0851a2cebe3440bd1cafd71b98e2d83392\", \"649df08a448ee3fa90f3746baaf6b0907df42c91\", \"57eef27b1643e8b06fcc0444b2a3519d01b2cef8\", \"44389f6a466eaabf5c1db729e369511134e2b03b\", \"af4f4762f9bd3f0f4a10caf5b6e63dc4ce543724\", \"3db4bac2e32c1fd4c51c4ffc01f1ab523d35aa5f\", \"c3bdbab40a4be4ac1b8eb1ccb2dbb2eaf8ed480f\", \"44389f6a466eaabf5c1db729e369511134e2b03b\", \"08f0c0cf51888a42175c6e62922d9b9e24579a11\", \"649df08a448ee3fa90f3746baaf6b0907df42c91\", \"04a422d38c95415cece1ac86e1ad2a1030048c03\", \"649df08a448ee3fa90f3746baaf6b0907df42c91\", \"a08119acc386f5b2c0e1f419f04c9d9a60a37579\", \"649df08a448ee3fa90f3746baaf6b0907df42c91\", \"649df08a448ee3fa90f3746baaf6b0907df42c91\", \"74ad93cbebf587ac46ab0ef1e3f24139ddd3f535\", \"44389f6a466eaabf5c1db729e369511134e2b03b\", \"1a0d21145500640fd3f6136eeba595bfe934d364\", \"334a85f1b16e32b6ba9a69313c6f584edef482cc\", \"485b57adcc80650a0f376fe516e0ea35fef68007\", \"44389f6a466eaabf5c1db729e369511134e2b03b\", \"44389f6a466eaabf5c1db729e369511134e2b03b\", \"649df08a448ee3fa90f3746baaf6b0907df42c91\", \"23882c575954a0789bf02aba9e6dd01f539bc738\", \"44389f6a466eaabf5c1db729e369511134e2b03b\", \"649df08a448ee3fa90f3746baaf6b0907df42c91\", \"af4f4762f9bd3f0f4a10caf5b6e63dc4ce543724\", \"649df08a448ee3fa90f3746baaf6b0907df42c91\", \"649df08a448ee3fa90f3746baaf6b0907df42c91\", \"59d5f5b13f13f6d5e8e88a5a92e137f7d64b2954\", \"1d6b8a691f0d907efa971075035a145a937381ac\", \"649df08a448ee3fa90f3746baaf6b0907df42c91\", \"af4f4762f9bd3f0f4a10caf5b6e63dc4ce543724\", \"23882c575954a0789bf02aba9e6dd01f539bc738\", \"dec66c5bf0f7fe4cc038ac871def8eb1ac31c146\", \"649df08a448ee3fa90f3746baaf6b0907df42c91\", \"334a85f1b16e32b6ba9a69313c6f584edef482cc\", \"649df08a448ee3fa90f3746baaf6b0907df42c91\", \"8df7f1b361b2af42d36011e00d22c0f9891ec0b0\", \"9f9f264815f8de2fa0a0e756083fbbf633ed8ba1\", \"2e01814f61f8a3d0cc2295059d56fff9b8c17f3a\", \"8df7f1b361b2af42d36011e00d22c0f9891ec0b0\", \"44389f6a466eaabf5c1db729e369511134e2b03b\", \"b7170c9650504f20a45c9af2ee298530ce50177e\", \"af4f4762f9bd3f0f4a10caf5b6e63dc4ce543724\", \"ae47cf0153f22f97c4a3e621b0d35cc3d0cd33ca\", \"9f9f264815f8de2fa0a0e756083fbbf633ed8ba1\", \"dc5f634ff5098b1e190fa6eaf9368c1282f8e84f\", \"864e7bdefc079d69bf268afa5873e45801b48a97\", \"23882c575954a0789bf02aba9e6dd01f539bc738\", \"23b05688ba85eedc18df5570fc05f98cf092bccc\", \"c1439807deac3e6c9290cfd97415a4b15f4ba6c8\", \"649df08a448ee3fa90f3746baaf6b0907df42c91\", \"d205cbd6783332a212c5ae92d73c77178c2d2f28\", \"44389f6a466eaabf5c1db729e369511134e2b03b\", \"8df7f1b361b2af42d36011e00d22c0f9891ec0b0\", \"44389f6a466eaabf5c1db729e369511134e2b03b\", \"04a422d38c95415cece1ac86e1ad2a1030048c03\", \"8db9b8636631c270672cdf3f5b79619ff9bd2b95\", \"23882c575954a0789bf02aba9e6dd01f539bc738\", \"981fb1a731db18be7ffbc618830d04ecbc60cd90\", \"649df08a448ee3fa90f3746baaf6b0907df42c91\", \"649df08a448ee3fa90f3746baaf6b0907df42c91\", \"649df08a448ee3fa90f3746baaf6b0907df42c91\", \"da91388c72d3e31da19dcd85c97374197748485d\", \"79b723002f87708ebc11fd4f3b902a03f7c9a5c1\", \"16e340746126ed50b9b41c11e75938dcc3f78df2\", \"485b57adcc80650a0f376fe516e0ea35fef68007\", \"a75ee8482a2c82952f1802a71a9ee0d0e4f4ff43\", \"da91388c72d3e31da19dcd85c97374197748485d\", \"af4f4762f9bd3f0f4a10caf5b6e63dc4ce543724\", \"e1c6d823cb20a2803416445c18a8e8802207ec71\", \"15dc18865567bcc98554a72a8036e1b64a8b85d5\", \"649df08a448ee3fa90f3746baaf6b0907df42c91\", \"649df08a448ee3fa90f3746baaf6b0907df42c91\", \"44389f6a466eaabf5c1db729e369511134e2b03b\", \"649df08a448ee3fa90f3746baaf6b0907df42c91\", \"649df08a448ee3fa90f3746baaf6b0907df42c91\", \"44389f6a466eaabf5c1db729e369511134e2b03b\", \"649df08a448ee3fa90f3746baaf6b0907df42c91\", \"5aea8700748f6946f70240cab14148a2c449ed9c\", \"44389f6a466eaabf5c1db729e369511134e2b03b\", \"44389f6a466eaabf5c1db729e369511134e2b03b\", \"44389f6a466eaabf5c1db729e369511134e2b03b\", \"af4f4762f9bd3f0f4a10caf5b6e63dc4ce543724\", \"3cffdaf0e8467ee06a319f475345a1f59ece46c5\", \"dec66c5bf0f7fe4cc038ac871def8eb1ac31c146\", \"649df08a448ee3fa90f3746baaf6b0907df42c91\", \"649df08a448ee3fa90f3746baaf6b0907df42c91\", \"649df08a448ee3fa90f3746baaf6b0907df42c91\", \"579a26333f44c20a6b40672787ab1f6c891ba996\", \"649df08a448ee3fa90f3746baaf6b0907df42c91\", \"649df08a448ee3fa90f3746baaf6b0907df42c91\", \"8df7f1b361b2af42d36011e00d22c0f9891ec0b0\", \"44389f6a466eaabf5c1db729e369511134e2b03b\", \"74ad93cbebf587ac46ab0ef1e3f24139ddd3f535\", \"da91388c72d3e31da19dcd85c97374197748485d\", \"649df08a448ee3fa90f3746baaf6b0907df42c91\", \"2c7205595032bf70cf7a8260e25275d136c5ea00\", \"8df7f1b361b2af42d36011e00d22c0f9891ec0b0\", \"649df08a448ee3fa90f3746baaf6b0907df42c91\", \"af4f4762f9bd3f0f4a10caf5b6e63dc4ce543724\", \"4f3cadca02ab29bdc3cf5ae2f21128c91fd8ac24\", \"3e5488aa8c4819bd5a17287d41825e63f6213203\", \"485b57adcc80650a0f376fe516e0ea35fef68007\", \"649df08a448ee3fa90f3746baaf6b0907df42c91\", \"649df08a448ee3fa90f3746baaf6b0907df42c91\", \"cfd5233f6c25112a7ae3ff91e4acc195f899f25f\", \"eea467c6cfe01f36237780838f0a1cff68eb889d\", \"b92b66b38efcefc646b9b298d3438a6bad54de35\", \"af4f4762f9bd3f0f4a10caf5b6e63dc4ce543724\", \"15dc18865567bcc98554a72a8036e1b64a8b85d5\", \"44389f6a466eaabf5c1db729e369511134e2b03b\", \"af4f4762f9bd3f0f4a10caf5b6e63dc4ce543724\", \"4908b12c142b7bd671d43e5185556c158bb0999c\", \"649df08a448ee3fa90f3746baaf6b0907df42c91\", \"649df08a448ee3fa90f3746baaf6b0907df42c91\", \"74ad93cbebf587ac46ab0ef1e3f24139ddd3f535\", \"23882c575954a0789bf02aba9e6dd01f539bc738\", \"649df08a448ee3fa90f3746baaf6b0907df42c91\", \"634aef873fe44c04677f04fefdffc8c6f585be83\", \"b9fedaa07b209e1f7a9c2d83295a76fe49f3b49f\", \"af4f4762f9bd3f0f4a10caf5b6e63dc4ce543724\", \"af4f4762f9bd3f0f4a10caf5b6e63dc4ce543724\", \"649df08a448ee3fa90f3746baaf6b0907df42c91\", \"649df08a448ee3fa90f3746baaf6b0907df42c91\", \"68852895e0570a356c8af13b8388d1678a58501f\"], \"Time\": [\"0.0054 ms\", \"0.0088 ms\", \"0.0021 ms\", \"0.0026 ms\", \"0.0023 ms\", \"0.0021 ms\", \"0.0023 ms\", \"0.0023 ms\", \"0.0023 ms\", \"0.0019 ms\", \"0.0021 ms\", \"0.0021 ms\", \"0.0023 ms\", \"0.0016 ms\", \"0.0026 ms\", \"0.0019 ms\", \"0.0026 ms\", \"0.0021 ms\", \"0.0019 ms\", \"0.0021 ms\", \"0.0028 ms\", \"0.0023 ms\", \"0.0023 ms\", \"0.0021 ms\", \"0.0021 ms\", \"0.0014 ms\", \"0.0019 ms\", \"0.0030 ms\", \"0.0021 ms\", \"0.0026 ms\", \"0.0023 ms\", \"0.0023 ms\", \"0.0023 ms\", \"0.0026 ms\", \"0.0023 ms\", \"0.0023 ms\", \"0.0016 ms\", \"0.0026 ms\", \"0.0021 ms\", \"0.0030 ms\", \"0.0023 ms\", \"0.0023 ms\", \"0.0019 ms\", \"0.0021 ms\", \"0.0023 ms\", \"0.0023 ms\", \"0.0023 ms\", \"0.0016 ms\", \"0.0016 ms\", \"0.0026 ms\", \"0.0026 ms\", \"0.0026 ms\", \"0.0021 ms\", \"0.0021 ms\", \"0.0023 ms\", \"0.0026 ms\", \"0.0021 ms\", \"0.0019 ms\", \"0.0021 ms\", \"0.0014 ms\", \"0.0019 ms\", \"0.0021 ms\", \"0.0021 ms\", \"0.0021 ms\", \"0.0026 ms\", \"0.0016 ms\", \"0.0023 ms\", \"0.0021 ms\", \"0.0023 ms\", \"0.0021 ms\", \"0.0021 ms\", \"0.0011 ms\", \"0.0026 ms\", \"0.0023 ms\", \"0.0023 ms\", \"0.0152 ms\", \"0.0023 ms\", \"0.0021 ms\", \"0.0021 ms\", \"0.0019 ms\", \"0.0023 ms\", \"0.0021 ms\", \"0.0021 ms\", \"0.0019 ms\", \"0.0023 ms\", \"0.0026 ms\", \"0.0021 ms\", \"0.0028 ms\", \"0.0019 ms\", \"0.0026 ms\", \"0.0016 ms\", \"0.0033 ms\", \"0.0023 ms\", \"0.0021 ms\", \"0.0021 ms\", \"0.0023 ms\", \"0.0023 ms\", \"0.0019 ms\", \"0.0021 ms\", \"0.0021 ms\", \"0.0038 ms\", \"0.0019 ms\", \"0.0021 ms\", \"0.1063 ms\", \"0.0028 ms\", \"0.0021 ms\", \"0.0021 ms\", \"0.0026 ms\", \"0.0016 ms\", \"0.0028 ms\", \"0.0026 ms\", \"0.0021 ms\", \"0.0023 ms\", \"0.0021 ms\", \"0.0026 ms\", \"0.0026 ms\", \"0.0021 ms\", \"0.0019 ms\", \"0.0021 ms\", \"0.0023 ms\", \"0.0019 ms\", \"0.0019 ms\", \"0.0026 ms\", \"0.0019 ms\", \"0.0026 ms\", \"0.0023 ms\", \"0.0023 ms\", \"0.0026 ms\", \"0.0023 ms\", \"0.0016 ms\", \"0.0026 ms\", \"0.0021 ms\", \"0.0023 ms\", \"0.0028 ms\", \"0.0021 ms\", \"0.0021 ms\", \"0.0026 ms\", \"0.0026 ms\", \"0.0023 ms\", \"0.0021 ms\", \"0.0019 ms\", \"0.0028 ms\", \"0.0021 ms\", \"0.0019 ms\", \"0.0021 ms\", \"0.0023 ms\", \"0.0023 ms\", \"0.0019 ms\", \"0.0026 ms\", \"0.0021 ms\", \"0.0026 ms\", \"0.0019 ms\", \"0.0023 ms\", \"0.0021 ms\", \"0.0021 ms\", \"0.0023 ms\", \"0.0019 ms\", \"0.0028 ms\", \"0.0026 ms\", \"0.0023 ms\", \"0.0021 ms\", \"0.0019 ms\", \"0.0021 ms\", \"0.0023 ms\", \"0.0028 ms\", \"0.0019 ms\", \"0.0021 ms\", \"0.0021 ms\", \"0.0023 ms\", \"0.0028 ms\", \"0.0019 ms\", \"0.0023 ms\", \"0.0023 ms\", \"0.0030 ms\", \"0.0021 ms\", \"0.0023 ms\", \"0.0016 ms\", \"0.0019 ms\", \"0.0019 ms\", \"0.0023 ms\", \"0.0021 ms\", \"0.0016 ms\", \"0.0019 ms\", \"0.0019 ms\", \"0.0023 ms\", \"0.0023 ms\", \"0.0021 ms\", \"0.0247 ms\", \"0.0023 ms\", \"0.0019 ms\", \"0.0026 ms\", \"0.0023 ms\", \"0.0021 ms\", \"0.0026 ms\", \"0.0019 ms\", \"0.0026 ms\", \"0.0023 ms\", \"0.0023 ms\", \"0.0028 ms\", \"0.0019 ms\", \"0.0026 ms\", \"0.0021 ms\", \"0.0023 ms\", \"0.0021 ms\", \"0.0021 ms\", \"0.0021 ms\", \"0.0016 ms\", \"0.0023 ms\", \"0.0021 ms\", \"0.0026 ms\", \"0.0021 ms\", \"0.0026 ms\", \"0.0023 ms\", \"0.0019 ms\", \"0.0021 ms\", \"0.0021 ms\", \"0.0021 ms\", \"0.0023 ms\", \"0.0021 ms\", \"0.0021 ms\", \"0.0023 ms\", \"0.0026 ms\", \"0.0021 ms\", \"0.0021 ms\", \"0.0023 ms\", \"0.0021 ms\", \"0.0021 ms\", \"0.0023 ms\", \"0.0016 ms\", \"0.0016 ms\", \"0.0019 ms\", \"0.0019 ms\", \"0.0023 ms\", \"0.0021 ms\", \"0.0019 ms\", \"0.0021 ms\", \"0.0026 ms\", \"0.0023 ms\", \"0.0021 ms\", \"0.0019 ms\", \"0.0023 ms\", \"0.0023 ms\", \"0.0028 ms\", \"0.0023 ms\", \"0.0023 ms\", \"0.0023 ms\", \"0.0026 ms\", \"0.0023 ms\", \"0.0026 ms\", \"0.0023 ms\"]}\n"
          ]
        }
      ]
    },
    {
      "cell_type": "markdown",
      "source": [
        "## Storing the data in the database:"
      ],
      "metadata": {
        "id": "Q4nuM-6V6xQ4"
      }
    },
    {
      "cell_type": "code",
      "source": [
        "# Making database connection\n",
        "import sqlite3\n",
        "from sqlite3 import Error\n",
        "\n",
        "def sql_conn():\n",
        "  try:\n",
        "    conn = sqlite3.connect('contries_db.db')     # Creating DB\n",
        "    return conn\n",
        "  except Error:\n",
        "    print(Error)\n",
        "\n",
        "def sql_table(conn, table, data):\n",
        "  cursor_obj = conn.cursor()                     # Cursor object to execute statements\n",
        "  cursor_obj.execute('CREATE TABLE IF NOT EXISTS ' + table + '(' + data + ')')\n",
        "  conn.commit()\n",
        "\n",
        "def sql_insert(conn, table, data, df):\n",
        "  cursor_obj = conn.cursor()                     # Cursor object to execute statements\n",
        "  for row in df.itertuples():                    # Insert dataframe rows one by one\n",
        "    sql_sentence = f\"INSERT INTO \" + table + f\"(\" + data + f\") VALUES({row[0]}, '{row[1]}', '{row[2]}', '{row[3]}', '{row[4]}')\"\n",
        "    cursor_obj.execute(sql_sentence)\n",
        "  conn.commit()\n",
        "  print('We have inserted', row[0]+1, 'records to the table.')"
      ],
      "metadata": {
        "id": "0vmihTUvkYRk"
      },
      "execution_count": 23,
      "outputs": []
    },
    {
      "cell_type": "code",
      "source": [
        "# Making the connection\n",
        "conn = sql_conn()\n",
        "cursor_obj = conn.cursor()"
      ],
      "metadata": {
        "id": "8uJG3BU792Kv"
      },
      "execution_count": 24,
      "outputs": []
    },
    {
      "cell_type": "code",
      "source": [
        "# Creating table and columns\n",
        "countries_table = 'countries'\n",
        "data_table = 'id integer PRIMARY KEY, region text, city_name text, language text, time text'\n",
        "data_table_names = 'id, region, city_name, language, time'\n",
        "\n",
        "sql_table(conn, countries_table, data_table)"
      ],
      "metadata": {
        "id": "MGuXAjZRADrS"
      },
      "execution_count": 25,
      "outputs": []
    },
    {
      "cell_type": "code",
      "source": [
        "# Insert data into the table\n",
        "sql_insert(conn, countries_table, data_table_names, df)"
      ],
      "metadata": {
        "colab": {
          "base_uri": "https://localhost:8080/"
        },
        "id": "UUtNO1zYRaQc",
        "outputId": "73a20cbe-79f7-419c-c1e8-09ca70858cf1"
      },
      "execution_count": 26,
      "outputs": [
        {
          "output_type": "stream",
          "name": "stdout",
          "text": [
            "We have inserted 250 records to the table.\n"
          ]
        }
      ]
    }
  ]
}